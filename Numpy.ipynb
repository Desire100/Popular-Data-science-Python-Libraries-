{
 "cells": [
  {
   "cell_type": "markdown",
   "metadata": {},
   "source": [
    "# NumPy\n",
    "\n",
    "NumPy is a linear algebra library for python, it is very important library for data science becasause almost all of the PyData ecosystem rely on Numpy as one of their buildind blocks. NumPy arrays are the main way we will use NumPy throught this repository. NumPy arrays essentially come in two flavors: vectors and matrices. Vector are 1-d arrays and matrices are 2-arrays."
   ]
  },
  {
   "cell_type": "markdown",
   "metadata": {},
   "source": [
    "### Images and NumPy\n",
    "\n",
    "NumPy by itselft can not directly open a JPG or PNG image file, instead we need to use its conjuction with what's known as the Pillow or PIL which stands for Python Imaging Library"
   ]
  },
  {
   "cell_type": "code",
   "execution_count": null,
   "metadata": {},
   "outputs": [],
   "source": [
    "#Numpy with images\n",
    "#Importing the libraries\n",
    "\n",
    "import numpy as np\n",
    "import matplotlib.pyplot as plt\n",
    "from PIL import Image\n",
    "\n",
    "pic = Image.open('desire.jpg') # import your image file name\n",
    "type(pic_arr)\n",
    "\n",
    "pic_arr =np.asanyarray(pic)  # transforming it to an array \n",
    "plt.imshow(pic_arr)\n",
    "pic_arr.shape"
   ]
  },
  {
   "cell_type": "code",
   "execution_count": null,
   "metadata": {},
   "outputs": [],
   "source": [
    "#Practice numpy\n",
    "\n",
    "#Create an array of 10 zeros\n",
    "array=np.zeros(10)"
   ]
  },
  {
   "cell_type": "code",
   "execution_count": null,
   "metadata": {},
   "outputs": [],
   "source": [
    "#Create an array of 10 ones \n",
    "array = np.ones(10)\n"
   ]
  },
  {
   "cell_type": "code",
   "execution_count": null,
   "metadata": {},
   "outputs": [],
   "source": [
    "#create an array of 10 fives\n",
    "array = np.zeros(10)+5\n",
    "array =np.ones(10)*5"
   ]
  },
  {
   "cell_type": "code",
   "execution_count": null,
   "metadata": {},
   "outputs": [],
   "source": [
    "#Create an array of all the even integers from 10 to 50\n",
    "array = np.arange(10,51,2)"
   ]
  },
  {
   "cell_type": "code",
   "execution_count": null,
   "metadata": {},
   "outputs": [],
   "source": [
    "#create a 3x3 matrix with values ranging from 0 to 8\n",
    "m= np.arange(9).reshape(3,3)\n"
   ]
  },
  {
   "cell_type": "code",
   "execution_count": null,
   "metadata": {},
   "outputs": [],
   "source": [
    "\n",
    "#create a 3x3 idenity matrix \n",
    "m = np.eye(3)"
   ]
  },
  {
   "cell_type": "code",
   "execution_count": null,
   "metadata": {},
   "outputs": [],
   "source": [
    "#use numpy to generate a random number between 0 and 1\n",
    "number= np.random.rand(1)\n"
   ]
  },
  {
   "cell_type": "code",
   "execution_count": null,
   "metadata": {},
   "outputs": [],
   "source": [
    "#use numpy to generate an array of 25 random numbers \n",
    "# sampled from a standard normal distribution\n",
    "array= np.random.randn(25)"
   ]
  }
 ],
 "metadata": {
  "kernelspec": {
   "display_name": "Python 3",
   "language": "python",
   "name": "python3"
  },
  "language_info": {
   "codemirror_mode": {
    "name": "ipython",
    "version": 3
   },
   "file_extension": ".py",
   "mimetype": "text/x-python",
   "name": "python",
   "nbconvert_exporter": "python",
   "pygments_lexer": "ipython3",
   "version": "3.7.3"
  }
 },
 "nbformat": 4,
 "nbformat_minor": 2
}
